{
 "cells": [
  {
   "cell_type": "code",
   "execution_count": null,
   "metadata": {},
   "outputs": [],
   "source": [
    "import socket\n",
    "\n",
    "# ros_container의 IP 주소 (위에서 확인한 IP를 사용)\n",
    "ROS_CONTAINER_IP = \"172.18.0.3\"  # 예시 IP 주소, 실제 IP로 변경하세요.\n",
    "UDP_PORT = 8000\n",
    "MESSAGE = \"Hello from host_container!\"\n",
    "\n",
    "sock = socket.socket(socket.AF_INET, socket.SOCK_DGRAM)\n",
    "sock.sendto(MESSAGE.encode(), (ROS_CONTAINER_IP, UDP_PORT))\n",
    "print(\"메시지를 보냈습니다:\", MESSAGE)"
   ]
  },
  {
   "cell_type": "code",
   "execution_count": null,
   "metadata": {},
   "outputs": [],
   "source": [
    "import socket\n",
    "import struct\n",
    "from config.sys_msg_config import SYS_HEADER_FMT\n",
    "\n",
    "UDP_IP = \"0.0.0.0\"  # 모든 인터페이스에서 수신\n",
    "UDP_PORT = 10006  # 사용하고자 하는 포트\n",
    "\n",
    "sock = socket.socket(socket.AF_INET, socket.SOCK_DGRAM)\n",
    "sock.bind((UDP_IP, UDP_PORT))\n",
    "print(\"UDP 서버가 포트\", UDP_PORT, \"에서 대기 중입니다.\")\n",
    "\n",
    "while True:\n",
    "    data, addr = sock.recvfrom(2**20)\n",
    "    payload = data[struct.calcsize(SYS_HEADER_FMT) : -4]\n",
    "    print(\"받은 메시지:\", data)"
   ]
  }
 ],
 "metadata": {
  "kernelspec": {
   "display_name": "base",
   "language": "python",
   "name": "python3"
  },
  "language_info": {
   "codemirror_mode": {
    "name": "ipython",
    "version": 3
   },
   "file_extension": ".py",
   "mimetype": "text/x-python",
   "name": "python",
   "nbconvert_exporter": "python",
   "pygments_lexer": "ipython3",
   "version": "3.11.10"
  }
 },
 "nbformat": 4,
 "nbformat_minor": 2
}
